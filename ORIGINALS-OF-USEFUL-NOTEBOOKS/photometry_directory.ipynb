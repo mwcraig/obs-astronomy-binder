{
 "cells": [
  {
   "cell_type": "code",
   "execution_count": null,
   "metadata": {},
   "outputs": [],
   "source": [
    "from pathlib import Path\n",
    "\n",
    "import numpy as np\n",
    "\n",
    "from astropy.nddata import CCDData\n",
    "from astropy.coordinates import SkyCoord\n",
    "from astrowidgets import ImageWidget\n",
    "\n",
    "from glowing_waffles.photometry import detect_sources, faster_sigma_clip_stats, find_too_close, clipped_sky_per_pix_stats, add_to_photometry_table, photometry_on_directory"
   ]
  },
  {
   "cell_type": "markdown",
   "metadata": {},
   "source": [
    "## Settings that need to be filled in by user "
   ]
  },
  {
   "cell_type": "markdown",
   "metadata": {},
   "source": [
    "###  Fill in the names below \n",
    "\n",
    "For the directory name you can use either a relative or absolute path."
   ]
  },
  {
   "cell_type": "code",
   "execution_count": null,
   "metadata": {},
   "outputs": [],
   "source": [
    "directory_with_images = 'path/to/my/images'\n",
    "\n",
    "#This could be any image from roughly the middle of the sequence.\n",
    "sample_image_for_finding_stars = 'sample_image_name.fit'\n",
    "\n",
    "# This only used to center the image viewer on the object. If the object you have can't be looked\n",
    "# up in simbad this cell will raise an error. If it raises an error leave the object of interest as an empty string.\n",
    "object_of_interest = 'my_object'\n",
    "\n",
    "if object_of_interest:\n",
    "    obj_coords = SkyCoord.from_name(object_of_interest)\n",
    "    \n",
    "# The name of your photometry file should include the night number (e.g. 2018-05-21), the object name \n",
    "# (e.g. kelt-16b) and the aperture radius (e.g. 12), so maybe: 2018-05-21-kelt-16b-aperture-12\n",
    "name_of_output_file = 'date-my-object-aperture' + '.fits'"
   ]
  },
  {
   "cell_type": "markdown",
   "metadata": {},
   "source": [
    "## Set FWHM, pick aperture and annulus sizes\n",
    "\n",
    "Using the `viewer-seeing-profile` notebook, determine what you want the FWHM should be set to. You want an aperture about 2×FWHM, an annulus with an inner radius at least 10 pixels larger than that, and outer radius about 15 pixels larger than the inner."
   ]
  },
  {
   "cell_type": "code",
   "execution_count": null,
   "metadata": {},
   "outputs": [],
   "source": [
    "# FWHM is used in the source detection algorithm\n",
    "FWHM = 7\n",
    "\n",
    "aperture_rad = 12\n",
    "inner_annulus = aperture_rad + 15\n",
    "outer_annulus = inner_annulus + 15"
   ]
  },
  {
   "cell_type": "markdown",
   "metadata": {},
   "source": [
    "## Choose detection threshold for star detection\n",
    "\n",
    "This is the number of standard deviations  above the the noise an object must be to be detected.\n",
    "\n",
    "(The standard deviation maybe estimated with the median absolute deviation)."
   ]
  },
  {
   "cell_type": "code",
   "execution_count": null,
   "metadata": {},
   "outputs": [],
   "source": [
    "sigma_detect = 10"
   ]
  },
  {
   "cell_type": "markdown",
   "metadata": {},
   "source": [
    "### Set some camera properties"
   ]
  },
  {
   "cell_type": "code",
   "execution_count": null,
   "metadata": {},
   "outputs": [],
   "source": [
    "max_adu = 45000\n",
    "gain = 1.47\n",
    "read_noise = 9.42\n",
    "dark_current = 0.014"
   ]
  },
  {
   "cell_type": "markdown",
   "metadata": {},
   "source": [
    "# The remainder of notebook can simply be run\n",
    "\n",
    "You can either \"Run All Below\" from the Cell menu or execute each cell individually."
   ]
  },
  {
   "cell_type": "code",
   "execution_count": null,
   "metadata": {},
   "outputs": [],
   "source": [
    "def source_detection(directory, sample_image, FWHM, sigma, aperture):\n",
    "    #Set pixels that are above point where CCD becomes non-linear to invalid value\n",
    "    ccd = CCDData.read(str(Path(directory) / sample_image))\n",
    "    ccd.data[ccd.data > max_adu] = np.nan\n",
    "    stars = detect_sources(ccd, FWHM, sigma)\n",
    "    \n",
    "    #list of stars in RA/Dec so we can find them in each image\n",
    "    star_locs = ccd.wcs.all_pix2world(stars['xcentroid'], stars['ycentroid'], 0)\n",
    "    \n",
    "    #check for stars closer than 2 × aperture radius and remove from list\n",
    "    too_close = find_too_close(star_locs, aperture)\n",
    "    star_locs = (star_locs[0][~too_close], star_locs[1][~too_close])\n",
    "    \n",
    "    #make up a unique ID for each star\n",
    "    star_ids = np.arange(len(star_locs[0])) + 1\n",
    "    \n",
    "    return ccd, stars, star_locs, too_close, star_ids"
   ]
  },
  {
   "cell_type": "code",
   "execution_count": null,
   "metadata": {
    "scrolled": false
   },
   "outputs": [],
   "source": [
    "ccd, stars, star_locs, too_close, star_ids = source_detection(directory_with_images, sample_image_for_finding_stars, FWHM, sigma_detect, aperture_rad)"
   ]
  },
  {
   "cell_type": "markdown",
   "metadata": {},
   "source": [
    "## We are ready to do photometry on all of the images"
   ]
  },
  {
   "cell_type": "code",
   "execution_count": null,
   "metadata": {
    "scrolled": true
   },
   "outputs": [],
   "source": [
    "all_phot = photometry_on_directory(directory_with_images, object_of_interest,\n",
    "                                   star_locs, aperture_rad,\n",
    "                                   inner_annulus, outer_annulus,\n",
    "                                   max_adu, star_ids,\n",
    "                                   gain, read_noise, dark_current)"
   ]
  },
  {
   "cell_type": "markdown",
   "metadata": {},
   "source": [
    "### Display the image"
   ]
  },
  {
   "cell_type": "markdown",
   "metadata": {},
   "source": [
    "You MUST run the cells below the image display in order to have a picture show up."
   ]
  },
  {
   "cell_type": "code",
   "execution_count": null,
   "metadata": {},
   "outputs": [],
   "source": [
    "iw = ImageWidget()\n",
    "iw"
   ]
  },
  {
   "cell_type": "code",
   "execution_count": null,
   "metadata": {},
   "outputs": [],
   "source": [
    "iw.load_fits(str(Path(directory_with_images) / sample_image_for_finding_stars))"
   ]
  },
  {
   "cell_type": "code",
   "execution_count": null,
   "metadata": {},
   "outputs": [],
   "source": [
    "if object_of_interest:\n",
    "    iw.center_on(SkyCoord.from_name(object_of_interest))"
   ]
  },
  {
   "cell_type": "code",
   "execution_count": null,
   "metadata": {},
   "outputs": [],
   "source": [
    "iw.reset_markers()\n",
    "iw.marker = {'type': 'circle', 'color': 'lightgreen', 'radius': 10}\n",
    "iw.add_markers(stars, x_colname='xcentroid', y_colname='ycentroid')"
   ]
  },
  {
   "cell_type": "code",
   "execution_count": null,
   "metadata": {},
   "outputs": [],
   "source": [
    "iw.marker = {'type': 'circle', 'color': 'red', 'radius': 20}\n",
    "iw.add_markers(stars[too_close], x_colname='xcentroid', y_colname='ycentroid')"
   ]
  },
  {
   "cell_type": "markdown",
   "metadata": {},
   "source": [
    "### Write out the file!"
   ]
  },
  {
   "cell_type": "code",
   "execution_count": null,
   "metadata": {},
   "outputs": [],
   "source": [
    "all_phot.write(name_of_output_file)"
   ]
  }
 ],
 "metadata": {
  "kernelspec": {
   "display_name": "Python 3",
   "language": "python",
   "name": "python3"
  },
  "language_info": {
   "codemirror_mode": {
    "name": "ipython",
    "version": 3
   },
   "file_extension": ".py",
   "mimetype": "text/x-python",
   "name": "python",
   "nbconvert_exporter": "python",
   "pygments_lexer": "ipython3",
   "version": "3.6.7"
  }
 },
 "nbformat": 4,
 "nbformat_minor": 2
}
