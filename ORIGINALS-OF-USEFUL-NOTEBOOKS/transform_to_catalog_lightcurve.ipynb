{
 "cells": [
  {
   "cell_type": "code",
   "execution_count": null,
   "metadata": {},
   "outputs": [],
   "source": [
    "%matplotlib inline\n",
    "import matplotlib.pyplot as plt\n",
    "\n",
    "import numpy as np\n",
    "\n",
    "from pathlib import Path\n",
    "\n",
    "from astropy import units as u\n",
    "from astropy.table import Table \n",
    "from astropy.nddata import CCDData\n",
    "from astropy.coordinates import SkyCoord, EarthLocation\n",
    "from astropy.time import Time, TimeDeltaSec\n",
    "\n",
    "import glowing_waffles.differential_photometry as gwdf"
   ]
  },
  {
   "cell_type": "markdown",
   "metadata": {},
   "source": [
    "\n",
    "## Change the settings below as appropriate for your images"
   ]
  },
  {
   "cell_type": "code",
   "execution_count": null,
   "metadata": {},
   "outputs": [],
   "source": [
    "# This can be a relative or absolute path\n",
    "# On Windows make this a \"raw\" string by putting an r before the string, otherwise\n",
    "# Python interprets the backslashes as escapotential energy sequences.\n",
    "# Windows example:\n",
    "# directory_with_images = r'C:\\path\\to\\my\\files'\n",
    "#\n",
    "# Mac/Linux example:\n",
    "directory_with_images = '/path/to/my/files'\n",
    "\n",
    "# If your magnitudes are in the same directory as the images then change to\n",
    "# directory_with_magnitude_file = directory_with_images\n",
    "directory_with_magnitude_file = '.'\n",
    "\n",
    "# This only used to center to make a light curve of your object at the end of this\n",
    "# notebook.\n",
    "# If the object you have can't be looked up in simbad this cell will raise an error.\n",
    "object_of_interest = 'my_object'\n",
    "\n",
    "if object_of_interest:\n",
    "    obj_coords = SkyCoord.from_name(object_of_interest)\n",
    "    \n",
    "# can be any image from middle of sequence    \n",
    "sample_image_for_finding_stars = 'sample-image.fit'\n",
    "\n",
    "input_photometry_file = 'my-file-from-photometry-notebook.fits'\n",
    "\n",
    "# Set the faintest stars to use in calibrating the magnitudes\n",
    "# For the new camera (any nights in 2018) use 13\n",
    "# For the old camera (any older nights) use 16\n",
    "faintest_mag = 13\n",
    "\n",
    "# Set the name of the apass column to use for calibration\n",
    "#r_mag for the new camera\n",
    "#Rmag for the old\n",
    "apass_cal_mag = 'r_mag'\n",
    "\n",
    "# Set the name of the column in our data file for our instrumental magnitude\n",
    "# Should be mag_inst_r for the new camera, mag_inst_R for the old\n",
    "feder_instrumental_mag = 'mag_inst_r'\n",
    "\n",
    "# change this to the name of your input photometry file\n",
    "output_photometry_file = 'my-input-photometry-file' +'-transformed.fits'\n",
    "\n",
    "# Set the location of our observatory\n",
    "feder = EarthLocation(\"263.54672d\", \"46.86678d\")"
   ]
  },
  {
   "cell_type": "code",
   "execution_count": null,
   "metadata": {},
   "outputs": [],
   "source": [
    "def func(image_directory, sample_image):\n",
    "    ccd = CCDData.read(Path(image_directory) / sample_image)\n",
    "    \n",
    "    apass, apass_x, apass_y, apass_for_transform, in_apass_x, in_apass_y = gwdf.find_apass_stars(ccd)\n",
    "    vsx, vsx_x, vsx_y, vsx_names = gwdf.find_known_variables(ccd)\n",
    "    \n",
    "    apass_all_coords = SkyCoord(apass['RAJ2000'], apass['DEJ2000'], unit='deg')\n",
    "    apass_for_transform_coords = SkyCoord(apass_for_transform['RAJ2000'], apass_for_transform['DEJ2000'], unit='deg')\n",
    "    \n",
    "    return ccd , apass, apass_x, apass_y, apass_for_transform, in_apass_x, in_apass_y, vsx, vsx_x, vsx_y, vsx_names, apass_all_coords, apass_for_transform_coords "
   ]
  },
  {
   "cell_type": "code",
   "execution_count": null,
   "metadata": {},
   "outputs": [],
   "source": [
    "ccd, apass, apass_x, apass_y, apass_for_transform, in_apass_x, in_apass_y, vsx, vsx_x, vsx_y, vsx_names, apass_all_coords, apass_for_transform_coords = func(directory_with_images, sample_image_for_finding_stars) "
   ]
  },
  {
   "cell_type": "code",
   "execution_count": null,
   "metadata": {},
   "outputs": [],
   "source": [
    "#ccd = CCDData.read(Path(directory_with_images) / sample_image_for_finding_stars)"
   ]
  },
  {
   "cell_type": "code",
   "execution_count": null,
   "metadata": {},
   "outputs": [],
   "source": [
    "#apass, apass_x, apass_y, apass_for_transform, in_apass_x, in_apass_y = gwdf.find_apass_stars(ccd)\n",
    "#vsx, vsx_x, vsx_y, vsx_names = gwdf.find_known_variables(ccd)\n",
    "\n",
    "#apass_all_coords = SkyCoord(apass['RAJ2000'], apass['DEJ2000'], unit='deg')\n",
    "#apass_for_transform_coords = SkyCoord(apass_for_transform['RAJ2000'], apass_for_transform['DEJ2000'], unit='deg')"
   ]
  },
  {
   "cell_type": "markdown",
   "metadata": {},
   "source": [
    "## Add column for R filter in case we need it"
   ]
  },
  {
   "cell_type": "code",
   "execution_count": null,
   "metadata": {},
   "outputs": [],
   "source": [
    "apass['Rmag'] = gwdf.filter_transform(apass, 'R', r='r_mag', i='i_mag', transform='ivezic')\n",
    "apass_for_transform['Rmag'] = gwdf.filter_transform(apass_for_transform, 'R', r='r_mag', i='i_mag', transform='ivezic')\n",
    "\n",
    "apass['Imag'] = gwdf.filter_transform(apass, 'I', r='r_mag', i='i_mag', transform='ivezic')\n",
    "apass_for_transform['Imag'] = gwdf.filter_transform(apass_for_transform, 'I', r='r_mag', i='i_mag', transform='ivezic')"
   ]
  },
  {
   "cell_type": "markdown",
   "metadata": {},
   "source": [
    "## Read in the data file"
   ]
  },
  {
   "cell_type": "markdown",
   "metadata": {},
   "source": [
    "The `read_data` function also gets the \"star_id\" for object of interest."
   ]
  },
  {
   "cell_type": "code",
   "execution_count": null,
   "metadata": {},
   "outputs": [],
   "source": [
    "#read in data file and get star_id for object of interest\n",
    "def read_data(mag_directory, photometry_input):\n",
    "    input_mags = Table.read(Path(mag_directory) / photometry_input)\n",
    "    \n",
    "    if object_of_interest:\n",
    "        input_coords = SkyCoord(input_mags['RA'], input_mags['Dec'])\n",
    "        idx, d2d, d3d = obj_coords.match_to_catalog_sky(input_coords)\n",
    "\n",
    "        object_of_interest_id = input_mags['star_id'][idx]\n",
    "        print(object_of_interest_id)\n",
    "        \n",
    "    return input_mags, input_coords, idx, d2d, d3d, object_of_interest_id\n",
    "\n",
    "input_mags, input_coords, idx, d2d, d3d, object_of_interest_id = read_data(directory_with_magnitude_file, input_photometry_file)"
   ]
  },
  {
   "cell_type": "code",
   "execution_count": null,
   "metadata": {},
   "outputs": [],
   "source": [
    "input_mags['mag_cal'] = np.zeros(len(input_mags))\n",
    "input_mags['zero_point'] = np.zeros(len(input_mags))\n",
    "input_mags['color_term'] = np.zeros(len(input_mags))\n",
    "input_mags['t_start_tdb'] = np.zeros(len(input_mags))\n",
    "input_mags['t_mid_tdb'] = np.zeros(len(input_mags))\n",
    "\n",
    "mags_grouped = input_mags.group_by('file')"
   ]
  },
  {
   "cell_type": "code",
   "execution_count": null,
   "metadata": {},
   "outputs": [],
   "source": [
    "input_mags.colnames"
   ]
  },
  {
   "cell_type": "code",
   "execution_count": null,
   "metadata": {
    "scrolled": false
   },
   "outputs": [],
   "source": [
    "print('On image...', end='')\n",
    "for idx, our_mags in enumerate(mags_grouped.groups):\n",
    "    print(str(idx) + '..', end='')\n",
    "    filt = our_mags['filter'][0]\n",
    "    input_mag_col = 'mag_inst_' + filt\n",
    "    apass_col = filt + '_mag'\n",
    "    new_mags, matches, transform = gwdf.transform_magnitudes(our_mags, apass, apass_for_transform, \n",
    "                                                faintest_mag_for_transform=faintest_mag,\n",
    "                                                input_mag_colum=input_mag_col,\n",
    "                                                catalog_mag_column=apass_col,\n",
    "                                                catalog_color_column='B-V'\n",
    "                                               )\n",
    "    our_mags['mag_cal'][matches] = new_mags.data.filled(np.nan)\n",
    "    our_mags['mag_cal'][~matches] = np.nan\n",
    "    our_mags['zero_point'] = transform.parameters[0]\n",
    "    our_mags['color_term'] = transform.parameters[1]\n",
    "    t_utc = Time(our_mags['date-obs'], scale='utc', location=feder)\n",
    "    our_coords = SkyCoord(our_mags['RA'], our_mags['Dec'])\n",
    "    delta_t_tdb = t_utc.light_travel_time(our_coords)\n",
    "    t_tdb = t_utc.tdb + delta_t_tdb\n",
    "    t_tdb_mid = t_tdb + our_mags['exposure'] / 2\n",
    "    our_mags['t_start_tdb'][:] = t_tdb.jd\n",
    "    our_mags['t_mid_tdb'][:] = t_tdb_mid.jd"
   ]
  },
  {
   "cell_type": "code",
   "execution_count": null,
   "metadata": {},
   "outputs": [],
   "source": [
    "mags_grouped.sort('t_start_tdb')"
   ]
  },
  {
   "cell_type": "code",
   "execution_count": null,
   "metadata": {},
   "outputs": [],
   "source": [
    "if object_of_interest:\n",
    "    object_alone = mags_grouped[mags_grouped['star_id'] == object_of_interest_id]\n",
    "    "
   ]
  },
  {
   "cell_type": "markdown",
   "metadata": {},
   "source": [
    "## Identify known variables in the field "
   ]
  },
  {
   "cell_type": "markdown",
   "metadata": {},
   "source": [
    "### Do the matching and add VSX name column to output table"
   ]
  },
  {
   "cell_type": "code",
   "execution_count": null,
   "metadata": {},
   "outputs": [],
   "source": [
    "def match():\n",
    "    mag_coords = SkyCoord(mags_grouped['RA'], mags_grouped['Dec'])\n",
    "    vsx_coords = SkyCoord(vsx['RAJ2000'], vsx['DEJ2000'])\n",
    "    vsx_idx, d2d, d3d = mag_coords.match_to_catalog_sky(vsx_coords)\n",
    "    matches = d2d < 3 * u.arcsec\n",
    "    \n",
    "    vsx_names = np.array([''] * len(mags_grouped), dtype='S50')\n",
    "    vsx_names[matches] = vsx['Name'][vsx_idx[matches]]\n",
    "    mags_grouped['vsx_name'] = vsx_names\n",
    "    \n",
    "    return mag_coords, vsx_coords, vsx_idx, d2d, d3d, matches"
   ]
  },
  {
   "cell_type": "markdown",
   "metadata": {},
   "source": [
    "## Write output to a file"
   ]
  },
  {
   "cell_type": "code",
   "execution_count": null,
   "metadata": {},
   "outputs": [],
   "source": [
    "mags_grouped.write(output_photometry_file)"
   ]
  },
  {
   "cell_type": "markdown",
   "metadata": {},
   "source": [
    "## Graph transform coefficients\n"
   ]
  },
  {
   "cell_type": "code",
   "execution_count": null,
   "metadata": {},
   "outputs": [],
   "source": [
    "regrouped = mags_grouped.group_by('file')\n",
    "agg_regrouped = regrouped.groups.aggregate(np.mean)"
   ]
  },
  {
   "cell_type": "code",
   "execution_count": null,
   "metadata": {},
   "outputs": [],
   "source": [
    "plt.figure(figsize=(15, 5))\n",
    "plt.plot(agg_regrouped['color_term'], '.')\n",
    "plt.ylim(-4, 2)\n",
    "plt.grid()"
   ]
  },
  {
   "cell_type": "code",
   "execution_count": null,
   "metadata": {},
   "outputs": [],
   "source": [
    "plt.figure(figsize=(15, 5))\n",
    "plt.grid()\n",
    "plt.plot(agg_regrouped['t_mid_tdb'], agg_regrouped['zero_point'], '.')\n",
    "#plt.ylim(20, 21)"
   ]
  },
  {
   "cell_type": "markdown",
   "metadata": {},
   "source": [
    "## Graph of your object, *uncalibrated* magnitudes"
   ]
  },
  {
   "cell_type": "code",
   "execution_count": null,
   "metadata": {},
   "outputs": [],
   "source": [
    "if not object_of_interest:\n",
    "    raise ValueError('Remaining cells will work only if the object_of_interest is set to a non-empty string.')"
   ]
  },
  {
   "cell_type": "code",
   "execution_count": null,
   "metadata": {},
   "outputs": [],
   "source": [
    "plt.figure(figsize=(15, 5))\n",
    "plt.plot(object_alone['t_mid_tdb'], object_alone['mag_inst_r'], '.')\n",
    "plt.ylim(reversed(plt.ylim()))\n",
    "plt.title('Uncalibrated Magnituds Kelt 1b 12-16-19') #REPLACE THIS WITH MEANINGFUL TITLE\n",
    "plt.ylabel('instrumental magnitude, r filter')\n",
    "plt.xlabel('barycentric julian date')\n",
    "plt.grid()"
   ]
  },
  {
   "cell_type": "markdown",
   "metadata": {},
   "source": [
    "## Graph of your object, *calibrated* magnitudes"
   ]
  },
  {
   "cell_type": "markdown",
   "metadata": {},
   "source": [
    "For an exoplanet transit, enter the ingress, midpoint and egress below. Uncomment the cells, fill in your date and time (UTC) and run. In the 3rd cell, uncomment the 2 lines to draw a line at the beginning and end of the transit. "
   ]
  },
  {
   "cell_type": "code",
   "execution_count": null,
   "metadata": {},
   "outputs": [],
   "source": [
    "#start_time = Time(\"2018-12-17 04:07:00\", scale='utc')\n",
    "#mid_time = Time(\"2018-12-17 05:23:00\", scale='utc')\n",
    "#end_time = Time(\"2018-12-17 06:40:00\", scale='utc')"
   ]
  },
  {
   "cell_type": "code",
   "execution_count": null,
   "metadata": {},
   "outputs": [],
   "source": [
    "#print(start_time.tdb.jd)\n",
    "#print(mid_time.tdb.jd)\n",
    "#print(end_time.tdb.jd)"
   ]
  },
  {
   "cell_type": "code",
   "execution_count": null,
   "metadata": {},
   "outputs": [],
   "source": [
    "plt.figure(figsize=(15, 5))\n",
    "plt.plot(object_alone['t_mid_tdb'], object_alone['mag_cal'], '.')\n",
    "#plt.axvline(x=start_time.tdb.jd)\n",
    "#plt.axvline(x=end_time.tdb.jd)\n",
    "plt.ylim(reversed(plt.ylim()))\n",
    "plt.title('Calibrated Magnituds Kelt 1b 12-16-19') #REPLACE THIS WITH MEANINGFUL TITLE\n",
    "plt.ylabel('calibrated magnitude, r filter')\n",
    "plt.xlabel('barycentric julian date')\n",
    "plt.grid()"
   ]
  },
  {
   "cell_type": "markdown",
   "metadata": {},
   "source": [
    "Run this cell (only if you have uncommented the above cells) to graph an explanet transit from start to end to see more detail. If you run this cell without uncommenting the lines mentioned above, you will get an error."
   ]
  },
  {
   "cell_type": "code",
   "execution_count": null,
   "metadata": {},
   "outputs": [],
   "source": [
    "plt.figure(figsize=(15, 5))\n",
    "plt.plot(object_alone['t_mid_tdb'], object_alone['mag_cal'], '.')\n",
    "plt.ylim(reversed(plt.ylim()))\n",
    "plt.xlim(start_time.tdb.jd, end_time.tdb.jd)\n",
    "plt.title('in-detail transit')\n",
    "plt.ylabel('calibrated magnitude, r filter')\n",
    "plt.xlabel('barycentric julian date')\n",
    "plt.grid()"
   ]
  },
  {
   "cell_type": "code",
   "execution_count": null,
   "metadata": {},
   "outputs": [],
   "source": []
  }
 ],
 "metadata": {
  "kernelspec": {
   "display_name": "Python 3",
   "language": "python",
   "name": "python3"
  },
  "language_info": {
   "codemirror_mode": {
    "name": "ipython",
    "version": 3
   },
   "file_extension": ".py",
   "mimetype": "text/x-python",
   "name": "python",
   "nbconvert_exporter": "python",
   "pygments_lexer": "ipython3",
   "version": "3.6.7"
  }
 },
 "nbformat": 4,
 "nbformat_minor": 2
}
