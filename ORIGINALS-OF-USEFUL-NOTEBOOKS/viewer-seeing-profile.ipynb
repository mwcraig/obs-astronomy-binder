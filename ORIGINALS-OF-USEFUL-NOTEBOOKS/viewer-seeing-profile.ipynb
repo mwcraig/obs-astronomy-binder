{
 "cells": [
  {
   "cell_type": "markdown",
   "metadata": {},
   "source": [
    "# Run all cells in this notebook\n",
    "\n",
    "Once they run, follow the instructions near the bottom for using the viewer/setting the image that is loaded"
   ]
  },
  {
   "cell_type": "code",
   "execution_count": 1,
   "metadata": {},
   "outputs": [],
   "source": [
    "import numpy as np\n",
    "from astrowidgets import ImageWidget\n",
    "from photutils import centroid_com\n",
    "import ipywidgets as ipw\n",
    "from astropy.stats import sigma_clipped_stats\n",
    "from astropy.table import Table\n",
    "%matplotlib inline\n",
    "import matplotlib.pyplot as plt\n",
    "from notebook_functions import *"
   ]
  },
  {
   "cell_type": "code",
   "execution_count": 2,
   "metadata": {},
   "outputs": [],
   "source": [
    "iw = ImageWidget(image_width=500, image_height=500, use_opencv=True)"
   ]
  },
  {
   "cell_type": "code",
   "execution_count": 4,
   "metadata": {},
   "outputs": [
    {
     "data": {
      "text/plain": [
       "{'divide': 'ignore', 'over': 'ignore', 'under': 'ignore', 'invalid': 'ignore'}"
      ]
     },
     "execution_count": 4,
     "metadata": {},
     "output_type": "execute_result"
    }
   ],
   "source": [
    "np.seterr(all='ignore')"
   ]
  },
  {
   "cell_type": "code",
   "execution_count": 5,
   "metadata": {},
   "outputs": [],
   "source": [
    "big_box = box(iw)\n",
    "build(iw)\n",
    "bind_map = iw._viewer.get_bindmap()\n",
    "\n",
    "# Displays the event map...\n",
    "#bind_map.eventmap\n",
    "\n",
    "\n",
    "gvc = iw._viewer.get_canvas()\n",
    "bind_map.map_event(None, ('shift',), 'ms_left', 'cursor')\n",
    "gvc.add_callback('cursor-down', make_show_event(iw))"
   ]
  },
  {
   "cell_type": "markdown",
   "metadata": {},
   "source": [
    "## The cell below displays the viewer\n",
    "\n",
    "### Left-click and drag to pan\n",
    "### Scroll or use the +/- keys to zoom in/out\n",
    "### Ctrl-left-click to display seeing profiles for stars"
   ]
  },
  {
   "cell_type": "code",
   "execution_count": 7,
   "metadata": {},
   "outputs": [
    {
     "data": {
      "application/vnd.jupyter.widget-view+json": {
       "model_id": "4027ad74018644f8b5db941d56477995",
       "version_major": 2,
       "version_minor": 0
      },
      "text/plain": [
       "HBox(children=(ImageWidget(children=(Image(value=b'\\xff\\xd8\\xff\\xe0\\x00\\x10JFIF\\x00\\x01\\x01\\x00\\x00\\x01\\x00\\x0…"
      ]
     },
     "metadata": {},
     "output_type": "display_data"
    }
   ],
   "source": [
    "big_box"
   ]
  },
  {
   "cell_type": "markdown",
   "metadata": {},
   "source": [
    "## Run cell below to load/change image"
   ]
  },
  {
   "cell_type": "code",
   "execution_count": 8,
   "metadata": {},
   "outputs": [],
   "source": [
    "iw.load_fits('/Volumes/My Passport for Mac/Strong 2019/all-18-7-23/2018-07-23-reduced/kelt-16-S001-R001-C052-r.fit')"
   ]
  }
 ],
 "metadata": {
  "kernelspec": {
   "display_name": "Python 3",
   "language": "python",
   "name": "python3"
  },
  "language_info": {
   "codemirror_mode": {
    "name": "ipython",
    "version": 3
   },
   "file_extension": ".py",
   "mimetype": "text/x-python",
   "name": "python",
   "nbconvert_exporter": "python",
   "pygments_lexer": "ipython3",
   "version": "3.6.7"
  }
 },
 "nbformat": 4,
 "nbformat_minor": 4
}
